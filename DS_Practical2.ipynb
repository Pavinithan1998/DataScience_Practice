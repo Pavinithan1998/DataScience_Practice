{
  "nbformat": 4,
  "nbformat_minor": 0,
  "metadata": {
    "colab": {
      "provenance": [],
      "authorship_tag": "ABX9TyM2yGCQTNVyBWUEn1jJSMVv",
      "include_colab_link": true
    },
    "kernelspec": {
      "name": "python3",
      "display_name": "Python 3"
    },
    "language_info": {
      "name": "python"
    }
  },
  "cells": [
    {
      "cell_type": "markdown",
      "metadata": {
        "id": "view-in-github",
        "colab_type": "text"
      },
      "source": [
        "<a href=\"https://colab.research.google.com/github/Pavinithan1998/DataScience_Practice/blob/main/DS_Practical2.ipynb\" target=\"_parent\"><img src=\"https://colab.research.google.com/assets/colab-badge.svg\" alt=\"Open In Colab\"/></a>"
      ]
    },
    {
      "cell_type": "code",
      "execution_count": 23,
      "metadata": {
        "colab": {
          "base_uri": "https://localhost:8080/",
          "height": 399
        },
        "id": "5-3v_RGsIq9Z",
        "outputId": "abbbcc4a-c0f8-4389-cbcb-cf3d37165d57"
      },
      "outputs": [
        {
          "output_type": "stream",
          "name": "stdout",
          "text": [
            "(25, 1) (25, 1)\n"
          ]
        },
        {
          "output_type": "display_data",
          "data": {
            "text/plain": [
              "<Figure size 432x288 with 1 Axes>"
            ],
            "image/png": "[encoded data removed]"
          },
          "metadata": {
            "needs_background": "light"
          }
        },
        {
          "output_type": "stream",
          "name": "stdout",
          "text": [
            "25 1\n",
            "(25, 2)\n",
            "Size of X =  (25, 2)\n",
            "Size of t =  (25, 1)\n",
            "Size of w =  (2, 1)\n"
          ]
        }
      ],
      "source": [
        "import numpy as np\n",
        "import matplotlib.pyplot as plt\n",
        "import pandas as pd\n",
        "df = pd.read_csv('/content/data.csv')\n",
        "\n",
        "#print(df.head(10))\n",
        "\n",
        "X_ori = np.array(df['Hours']).reshape([-1,1])\n",
        "t = np.array(df['Scores']).reshape([-1,1])\n",
        "print(X_ori.shape, t.shape)\n",
        "\n",
        "#plot the data\n",
        "plt.scatter(X_ori,t)\n",
        "plt.title(\"The training data\")\n",
        "plt.xlabel('Hours')\n",
        "plt.ylabel('Scores')\n",
        "plt.show()\n",
        "\n",
        "\n",
        "N, D = X_ori.shape\n",
        "print(N,D)\n",
        "\n",
        "X = np.append(X_ori, np.ones_like(X_ori), axis=1)\n",
        "D = D+1\n",
        "print(X.shape)\n",
        "\n",
        "w = np.zeros((D,1))\n",
        "print(\"Size of X = \", X.shape)\n",
        "print(\"Size of t = \", t.shape)\n",
        "print(\"Size of w = \", w.shape)\n",
        "\n"
      ]
    },
    {
      "cell_type": "code",
      "source": [
        "import numpy as np\n",
        "import matplotlib.pyplot as plt\n",
        "import pandas as pd\n",
        "df = pd.read_csv('/content/data.csv')\n",
        "\n",
        "#print(df.head(10))\n",
        "\n",
        "X_ori = np.array(df['Hours']).reshape([-1,1])\n",
        "t = np.array(df['Scores']).reshape([-1,1])\n",
        "print(X_ori.shape, t.shape)\n",
        "\n",
        "#plot the data\n",
        "# plt.scatter(X_ori,t)\n",
        "# plt.title(\"The training data\")\n",
        "# plt.xlabel('Hours')\n",
        "# plt.ylabel('Scores')\n",
        "# plt.show()\n",
        "\n",
        "\n",
        "N, D = X_ori.shape\n",
        "print(N,D)\n",
        "\n",
        "X = np.append(X_ori, np.ones_like(X_ori), axis=1)\n",
        "D = D+1\n",
        "# print(X.shape)\n",
        "\n",
        "w = np.zeros((D,1))\n",
        "# print(\"Size of X = \", X.shape)\n",
        "# print(\"Size of t = \", t.shape)\n",
        "# print(\"Size of w = \", w.shape)\n",
        "\n",
        "nepochs = 100\n",
        "lr = 0.001\n",
        "losses=[]\n",
        "for epoch in range(nepochs):\n",
        "  #calculate predicions\n",
        "  y = np.dot(X,w)\n",
        "  #calculate derivative\n",
        "  dldw = np.dot(X.T,y-t)/N\n",
        "  #update w\n",
        "  w = w - lr*dldw\n",
        "  # calculate the loss\n",
        "  loss = np.mean((y-t)**2)/2\n",
        "  losses.append(loss)\n",
        "  #print(epoch, \" : \", loss)\n",
        "\n",
        "# plt.scatter(X_ori,t)\n",
        "fir = plt.figure(figsize=(8,6))\n",
        "# plt.plot([i for i in range (nepochs)],losses)\n",
        "plt.plot(list(range(nepochs)),losses)\n",
        "plt.title(\"The losses\")\n",
        "plt.xlabel('epoch')\n",
        "plt.ylabel('Loss')\n",
        "plt.show()\n",
        "\n",
        "y = np.dot(X,w)\n",
        "\n",
        "compare = pd.DataFrame({'Actual':t.reshape(-1),'Pred':y.reshape(-1)})\n",
        "print(compare)\n",
        "\n",
        "fir = plt.figure(figsize=(8,6))\n",
        "plt.title(\"The Prediction\")\n",
        "plt.scatter(X_ori,t)\n",
        "plt.plot(X_ori, y, 'r-')\n",
        "plt.show()"
      ],
      "metadata": {
        "colab": {
          "base_uri": "https://localhost:8080/",
          "height": 1000
        },
        "id": "xyuKaiK-UySG",
        "outputId": "54f4b7a8-34cf-413a-a831-d8be4b05bf78"
      },
      "execution_count": 36,
      "outputs": [
        {
          "output_type": "stream",
          "name": "stdout",
          "text": [
            "(25, 1) (25, 1)\n",
            "25 1\n"
          ]
        },
        {
          "output_type": "display_data",
          "data": {
            "text/plain": [
              "<Figure size 576x432 with 1 Axes>"
            ],
            "image/png": "[encoded data removed]"
          },
          "metadata": {
            "needs_background": "light"
          }
        },
        {
          "output_type": "stream",
          "name": "stdout",
          "text": [
            "    Actual       Pred\n",
            "0      100  25.390789\n",
            "1       47  50.178910\n",
            "2       27  32.064514\n",
            "3       75  82.594146\n",
            "4       30  34.924682\n",
            "5       20  15.856896\n",
            "6       88  89.267871\n",
            "7       60  53.992467\n",
            "8       81  80.687367\n",
            "9       25  27.297568\n",
            "10      85  74.967032\n",
            "11      62  57.806025\n",
            "12      41  44.458575\n",
            "13      42  33.017903\n",
            "14      17  12.043339\n",
            "15      95  86.407703\n",
            "16      30  25.390789\n",
            "17      24  19.670453\n",
            "18      67  59.712803\n",
            "19      69  72.106864\n",
            "20      30  27.297568\n",
            "21      54  47.318742\n",
            "22      35  37.784850\n",
            "23      76  67.339917\n",
            "24      86  75.920421\n"
          ]
        },
        {
          "output_type": "display_data",
          "data": {
            "text/plain": [
              "<Figure size 576x432 with 1 Axes>"
            ],
            "image/png": "[encoded data removed]"
          },
          "metadata": {
            "needs_background": "light"
          }
        }
      ]
    },
    {
      "cell_type": "code",
      "source": [],
      "metadata": {
        "id": "JmPFDncLO_2F"
      },
      "execution_count": null,
      "outputs": []
    }
  ]
}