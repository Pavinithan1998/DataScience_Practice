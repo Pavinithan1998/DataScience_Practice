{
  "nbformat": 4,
  "nbformat_minor": 0,
  "metadata": {
    "colab": {
      "provenance": [],
      "mount_file_id": "1AEAH3E82VIL353slCkxmahqWqdWlVclF",
      "authorship_tag": "ABX9TyNuV8ObnnUi9UzF+oVSfafj",
      "include_colab_link": true
    },
    "kernelspec": {
      "name": "python3",
      "display_name": "Python 3"
    },
    "language_info": {
      "name": "python"
    }
  },
  "cells": [
    {
      "cell_type": "markdown",
      "metadata": {
        "id": "view-in-github",
        "colab_type": "text"
      },
      "source": [
        "<a href=\"https://colab.research.google.com/github/Pavinithan1998/DataScience_Practice/blob/main/DSPractical_01_02_2023.ipynb\" target=\"_parent\"><img src=\"https://colab.research.google.com/assets/colab-badge.svg\" alt=\"Open In Colab\"/></a>"
      ]
    },
    {
      "cell_type": "code",
      "execution_count": null,
      "metadata": {
        "id": "3AIXxdVhU-Kr"
      },
      "outputs": [],
      "source": [
        "import os\n",
        "import torch.utils.data as data\n",
        "from PIL import Image\n",
        "\n",
        "# to convert the class names to numbers\n",
        "def getLblInt(s):\n",
        "    if 'Homogeneous' in s or 'homogeneous' in s: lbl = 0\n",
        "    elif 'Speckled' in s or 'speckled' in s: lbl = 1\n",
        "    elif 'Nucleolar' in s or 'nucleolar' in s: lbl = 2\n",
        "    elif 'Centromere' in s or 'centromere' in s: lbl = 3\n",
        "    elif 'NuMem' in s or 'numem' in s: lbl = 4\n",
        "    elif 'Golgi' in s or 'golgi' in s: lbl = 5\n",
        "    else: \n",
        "        print(s)\n",
        "        raise ValueError(\"Unknown Label\")\n",
        "    return lbl\n",
        "        \n",
        "# to load the data from the folder\n",
        "def getData(fn, srcDir):    \n",
        "    lblarr = []\n",
        "    imgFnArr = []\n",
        "    file = open(fn, 'r')\n",
        "    for line in file:\n",
        "        line = line.split(',')\n",
        "        lbl = getLblInt(line[1])\n",
        "        lblarr.append(lbl)\n",
        "        imgFnArr.append(os.path.join(srcDir, line[0]+'.png'))\n",
        "    file.close()\n",
        "    return imgFnArr, lblarr\n",
        "\n",
        "\n",
        "# to print the number of images in each class\n",
        "def calStats(lbl_arr):\n",
        "    unique_lbls = set(lbl_arr)\n",
        "    print('Total images : ', len(lbl_arr))\n",
        "    for lbl in unique_lbls:\n",
        "        idx = [i for i, x in enumerate(lbl_arr) if x == lbl]\n",
        "        print('Number of images in class ', lbl, ': ', len(idx))\n",
        "    print('\\n-----------------\\n')\n",
        "\n",
        "\n",
        "# Read an image, convert it to gray scale and return it\n",
        "def pil_loader(path):\n",
        "    with open(path, 'rb') as f:\n",
        "        img = Image.open(f)\n",
        "        return img.convert('RGB')\n",
        "\n",
        "\n",
        "class DatasetLoader(data.Dataset):\n",
        "    def __init__(self, train=True, transform=None):\n",
        "        img_dir = '/content/drive/MyDrive/SmallDataset_CellImages'\n",
        "        if train: annot_fn = 'train.txt'\n",
        "        else: annot_fn = 'test.txt'\n",
        "        annot_fn = os.path.join(img_dir, annot_fn)\n",
        "        self.fnArr, self.lbls = getData(annot_fn, img_dir )\n",
        "        self.classLbls = set(self.lbls)\n",
        "\n",
        "        self.transform = transform\n",
        "        self.train = train\n",
        "        if self.train: print('\\nTrain--->')\n",
        "        else: print('\\nTest--->')\n",
        "        calStats(self.lbls)\n",
        "\n",
        "    # when an index is given as the input\n",
        "    # return the corresponding image and its target\n",
        "    def __getitem__(self, index):\n",
        "        img_fn = self.fnArr[index]\n",
        "        target = self.lbls[index]\n",
        "        imagedata = pil_loader(img_fn)\n",
        "        if self.transform is not None:\n",
        "            imagedata = self.transform(imagedata)\n",
        "        return imagedata, target          \n",
        "\n",
        "    def getLbls(self):\n",
        "        return self.classLbls\n",
        "\n",
        "    def __len__(self):\n",
        "        return len(self.fnArr)\n",
        "    \n",
        "\n",
        "\n",
        "if __name__ == '__main__':\n",
        "  DatasetLoader()\n",
        "  DatasetLoader(False)\n",
        "  # imgFnArr, lbls = getData(\"/content/drive/MyDrive/SmallDataset_CellImages/train.txt\", \"/content/drive/MyDrive/SmallDataset_CellImages\")\n",
        "  # calStats(lbls)\n",
        "  "
      ]
    },
    {
      "cell_type": "code",
      "source": [
        "!python /content/sample_data/DatasetLoader.py\n"
      ],
      "metadata": {
        "id": "GJq20uJ3hPTI"
      },
      "execution_count": null,
      "outputs": []
    },
    {
      "cell_type": "code",
      "source": [
        "!python /content/sample_data/util.py"
      ],
      "metadata": {
        "id": "a_wCA4fnh88I"
      },
      "execution_count": null,
      "outputs": []
    },
    {
      "cell_type": "code",
      "source": [
        "!python /content/sample_data/Net.py"
      ],
      "metadata": {
        "id": "jwmGa7H6prwO"
      },
      "execution_count": null,
      "outputs": []
    },
    {
      "cell_type": "code",
      "source": [
        "import torchvision.transforms as transforms\n",
        "import torch\n",
        "# import DatasetLoader\n",
        "\n",
        "def get_loaders(bs):\n",
        "    normalize = transforms.Normalize(mean=[0.3111,0.3111,0.3111], std=[0.2845,0.2845,0.2845])\n",
        "    imsize = 100\n",
        "    imsize2 = 80\n",
        "\n",
        "    transform_train = transforms.Compose([\n",
        "        transforms.Resize(imsize),\n",
        "        transforms.RandomHorizontalFlip(),\n",
        "        transforms.RandomVerticalFlip(),\n",
        "        transforms.RandomRotation([0, 180]),\n",
        "        transforms.RandomCrop(imsize2),\n",
        "        transforms.ToTensor(),\n",
        "        normalize\n",
        "    ])\n",
        "\n",
        "    transform_test = transforms.Compose([\n",
        "        transforms.Resize(imsize),\n",
        "        transforms.CenterCrop(imsize2),\n",
        "        transforms.ToTensor(),\n",
        "        normalize])\n",
        "\n",
        "    # Dataset\n",
        "    print('\\nPreparing data----->')\n",
        "    trainset = DatasetLoader(train=True, transform=transform_train)\n",
        "    testset = DatasetLoader(train=False, transform=transform_test)\n",
        "\n",
        "    trainloader = torch.utils.data.DataLoader(trainset, \n",
        "                                              batch_size=bs, \n",
        "                                              num_workers=1,\n",
        "                                              shuffle=True)\n",
        "    testloader = torch.utils.data.DataLoader(testset, \n",
        "                                             batch_size=bs, \n",
        "                                             num_workers=1,\n",
        "                                             shuffle=False)\n",
        "    classLbls = trainset.getLbls()\n",
        "    return trainloader, testloader, len(trainset), len(testset), classLbls\n",
        "    \n",
        "\n",
        "if __name__ == '__main__':\n",
        "  get_loaders(8)\n",
        "\n",
        "        "
      ],
      "metadata": {
        "id": "tSU7uO9-f514"
      },
      "execution_count": null,
      "outputs": []
    },
    {
      "cell_type": "code",
      "source": [
        "import torchvision.transforms as transforms\n",
        "import torch\n",
        "from DatasetLoader import *\n",
        "\n",
        "def get_loaders(bs):\n",
        "    normalize = transforms.Normalize(mean=[0.3111,0.3111,0.3111], std=[0.2845,0.2845,0.2845])\n",
        "    imsize = 100\n",
        "    imsize2 = 80\n",
        "\n",
        "    transform_train = transforms.Compose([\n",
        "        transforms.Resize(imsize),\n",
        "        transforms.RandomHorizontalFlip(),\n",
        "        transforms.RandomVerticalFlip(),\n",
        "        transforms.RandomRotation([0, 180]),\n",
        "        transforms.RandomCrop(imsize2),\n",
        "        transforms.ToTensor(),\n",
        "        normalize\n",
        "    ])\n",
        "\n",
        "    transform_test = transforms.Compose([\n",
        "        transforms.Resize(imsize),\n",
        "        transforms.CenterCrop(imsize2),\n",
        "        transforms.ToTensor(),\n",
        "        normalize])\n",
        "\n",
        "    # Dataset\n",
        "    print('\\nPreparing data----->')\n",
        "    trainset = DatasetLoader(train=True, transform=transform_train)\n",
        "    testset = DatasetLoader(train=False, transform=transform_test)\n",
        "\n",
        "    trainloader = torch.utils.data.DataLoader(trainset, \n",
        "                                              batch_size=bs, \n",
        "                                              num_workers=1,\n",
        "                                              shuffle=True)\n",
        "    testloader = torch.utils.data.DataLoader(testset, \n",
        "                                             batch_size=bs, \n",
        "                                             num_workers=1,\n",
        "                                             shuffle=False)\n",
        "    classLbls = trainset.getLbls()\n",
        "    return trainloader, testloader\n",
        "    \n",
        "\n",
        "if __name__ == '__main__':\n",
        "  get_loaders(8)\n",
        "\n",
        "        "
      ],
      "metadata": {
        "id": "xwFJvM-Zs9tc"
      },
      "execution_count": null,
      "outputs": []
    }
  ]
}